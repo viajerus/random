{
 "cells": [
  {
   "cell_type": "code",
   "execution_count": 1,
   "id": "3028a01c",
   "metadata": {},
   "outputs": [],
   "source": [
    "import json\n",
    "import pandas as pd\n",
    "import copy"
   ]
  },
  {
   "cell_type": "code",
   "execution_count": 46,
   "id": "f86b0d5c",
   "metadata": {},
   "outputs": [],
   "source": [
    "filename_json = \"loki_script/template.json\"\n",
    "filename_agg_results = \"loki_script/agg_results.csv\"\n",
    "\n",
    "# read json template\n",
    "with open(filename_json,'r+') as file:\n",
    "        json_data = json.load(file)\n"
   ]
  },
  {
   "cell_type": "code",
   "execution_count": 117,
   "id": "492fcae8",
   "metadata": {},
   "outputs": [
    {
     "data": {
      "text/html": [
       "<div>\n",
       "<style scoped>\n",
       "    .dataframe tbody tr th:only-of-type {\n",
       "        vertical-align: middle;\n",
       "    }\n",
       "\n",
       "    .dataframe tbody tr th {\n",
       "        vertical-align: top;\n",
       "    }\n",
       "\n",
       "    .dataframe thead th {\n",
       "        text-align: right;\n",
       "    }\n",
       "</style>\n",
       "<table border=\"1\" class=\"dataframe\">\n",
       "  <thead>\n",
       "    <tr style=\"text-align: right;\">\n",
       "      <th></th>\n",
       "      <th>osm_id</th>\n",
       "      <th>value</th>\n",
       "      <th>count</th>\n",
       "      <th>pct</th>\n",
       "    </tr>\n",
       "  </thead>\n",
       "  <tbody>\n",
       "    <tr>\n",
       "      <th>0</th>\n",
       "      <td>1</td>\n",
       "      <td>0</td>\n",
       "      <td>1</td>\n",
       "      <td>0.1</td>\n",
       "    </tr>\n",
       "    <tr>\n",
       "      <th>1</th>\n",
       "      <td>2</td>\n",
       "      <td>1</td>\n",
       "      <td>2</td>\n",
       "      <td>0.2</td>\n",
       "    </tr>\n",
       "    <tr>\n",
       "      <th>2</th>\n",
       "      <td>3</td>\n",
       "      <td>2</td>\n",
       "      <td>7</td>\n",
       "      <td>0.7</td>\n",
       "    </tr>\n",
       "  </tbody>\n",
       "</table>\n",
       "</div>"
      ],
      "text/plain": [
       "   osm_id  value  count  pct\n",
       "0       1      0      1  0.1\n",
       "1       2      1      2  0.2\n",
       "2       3      2      7  0.7"
      ]
     },
     "execution_count": 117,
     "metadata": {},
     "output_type": "execute_result"
    }
   ],
   "source": [
    "# read example data for aggregated results\n",
    "df = pd.read_csv(filename_agg_results)\n",
    "df"
   ]
  },
  {
   "cell_type": "code",
   "execution_count": 49,
   "id": "bb8175d4",
   "metadata": {},
   "outputs": [
    {
     "name": "stdout",
     "output_type": "stream",
     "text": [
      "{\n",
      "    \"$OSM_ID\": {\n",
      "        \"damage\": [\n",
      "            {\n",
      "                \"damageScale\": \"Binary\",\n",
      "                \"values\": [\n",
      "                    \"$VALUE_0_BINARY\",\n",
      "                    \"$VALUE_1_BINARY\"\n",
      "                ],\n",
      "                \"assessmentSourceMethod\": \"automatic\",\n",
      "                \"status\": \"finished\",\n",
      "                \"comment\": \"optional comment\"\n",
      "            },\n",
      "            {\n",
      "                \"damageScale\": \"Multi\",\n",
      "                \"values\": [\n",
      "                    0.1,\n",
      "                    0.3,\n",
      "                    0.5,\n",
      "                    0.1,\n",
      "                    0,\n",
      "                    0\n",
      "                ],\n",
      "                \"assessmentSourceMethod\": \"micro_mapping\",\n",
      "                \"status\": \"pending\",\n",
      "                \"comment\": \"optional comment\"\n",
      "            }\n",
      "        ]\n",
      "    }\n",
      "}\n"
     ]
    }
   ],
   "source": [
    "# get json template for OSM buildings\n",
    "building_template = json_data[\"osmBuildingIds\"]\n",
    "print(json.dumps(building_template, indent=4))\n"
   ]
  },
  {
   "cell_type": "code",
   "execution_count": 50,
   "id": "ee75f1bb",
   "metadata": {},
   "outputs": [
    {
     "name": "stdout",
     "output_type": "stream",
     "text": [
      "{\n",
      "    \"damageClassificationTimestamp\": \"87890954331\",\n",
      "    \"damageScales\": {\n",
      "        \"Binary\": {\n",
      "            \"states\": [\n",
      "                \"no damage\",\n",
      "                \"damage\"\n",
      "            ]\n",
      "        },\n",
      "        \"Multi\": {\n",
      "            \"states\": [\n",
      "                \"no damage\",\n",
      "                \"slight damage\",\n",
      "                \"medium damage\",\n",
      "                \"high damage\",\n",
      "                \"extreme damage\",\n",
      "                \"collapse\"\n",
      "            ]\n",
      "        }\n",
      "    },\n",
      "    \"assessmentSourceMethods\": [\n",
      "        \"micro_mapping\",\n",
      "        \"automatic\"\n",
      "    ]\n",
      "}\n"
     ]
    }
   ],
   "source": [
    "# remove OSM building elements from \n",
    "json_template = copy.deepcopy(json_data)\n",
    "json_template.pop('osmBuildingIds')\n",
    "print(json.dumps(json_template, indent=4))\n",
    "building_items = {}"
   ]
  },
  {
   "cell_type": "code",
   "execution_count": 19,
   "id": "761e36ed",
   "metadata": {},
   "outputs": [],
   "source": [
    "######################################\n",
    "# TODO: loop over all OSM buildings\n",
    "# get first OSM id\n",
    "osm_id = df[\"osm_id\"].iloc[0]"
   ]
  },
  {
   "cell_type": "code",
   "execution_count": 32,
   "id": "a55a65f8",
   "metadata": {},
   "outputs": [
    {
     "data": {
      "text/plain": [
       "[1, 2, 3]"
      ]
     },
     "execution_count": 32,
     "metadata": {},
     "output_type": "execute_result"
    }
   ],
   "source": [
    "osm_ids = []\n",
    "\n",
    "for i in df[\"osm_id\"]:\n",
    "    osm_ids.append(i)\n",
    "\n",
    "osm_ids"
   ]
  },
  {
   "cell_type": "code",
   "execution_count": 54,
   "id": "2b112606",
   "metadata": {},
   "outputs": [
    {
     "name": "stdout",
     "output_type": "stream",
     "text": [
      "{\n",
      "    \"$OSM_ID\": {\n",
      "        \"damage\": [\n",
      "            {\n",
      "                \"damageScale\": \"Binary\",\n",
      "                \"values\": [\n",
      "                    \"$VALUE_0_BINARY\",\n",
      "                    \"$VALUE_1_BINARY\"\n",
      "                ],\n",
      "                \"assessmentSourceMethod\": \"automatic\",\n",
      "                \"status\": \"finished\",\n",
      "                \"comment\": \"optional comment\"\n",
      "            },\n",
      "            {\n",
      "                \"damageScale\": \"Multi\",\n",
      "                \"values\": [\n",
      "                    0.1,\n",
      "                    0.3,\n",
      "                    0.5,\n",
      "                    0.1,\n",
      "                    0,\n",
      "                    0\n",
      "                ],\n",
      "                \"assessmentSourceMethod\": \"micro_mapping\",\n",
      "                \"status\": \"pending\",\n",
      "                \"comment\": \"optional comment\"\n",
      "            }\n",
      "        ]\n",
      "    }\n",
      "}\n"
     ]
    }
   ],
   "source": [
    "# create first building item\n",
    "building_item = building_template\n",
    "print(json.dumps(building_item, indent=4))"
   ]
  },
  {
   "cell_type": "code",
   "execution_count": 21,
   "id": "141d4e92",
   "metadata": {},
   "outputs": [
    {
     "name": "stdout",
     "output_type": "stream",
     "text": [
      "{\n",
      "    \"1\": {\n",
      "        \"damage\": [\n",
      "            {\n",
      "                \"damageScale\": \"Binary\",\n",
      "                \"values\": [\n",
      "                    \"$VALUE_0_BINARY\",\n",
      "                    \"$VALUE_1_BINARY\"\n",
      "                ],\n",
      "                \"assessmentSourceMethod\": \"automatic\",\n",
      "                \"status\": \"finished\",\n",
      "                \"comment\": \"optional comment\"\n",
      "            },\n",
      "            {\n",
      "                \"damageScale\": \"Multi\",\n",
      "                \"values\": [\n",
      "                    0.1,\n",
      "                    0.3,\n",
      "                    0.5,\n",
      "                    0.1,\n",
      "                    0,\n",
      "                    0\n",
      "                ],\n",
      "                \"assessmentSourceMethod\": \"micro_mapping\",\n",
      "                \"status\": \"pending\",\n",
      "                \"comment\": \"optional comment\"\n",
      "            }\n",
      "        ]\n",
      "    }\n",
      "}\n"
     ]
    }
   ],
   "source": [
    "# set first OSM id\n",
    "building_item[str(osm_id)] = building_item.pop('$OSM_ID')\n",
    "print(json.dumps(building_item, indent=4))"
   ]
  },
  {
   "cell_type": "code",
   "execution_count": 57,
   "id": "24df483c",
   "metadata": {},
   "outputs": [],
   "source": [
    "building_items = {}\n",
    "for i in osm_ids:\n",
    "    building_item[str(i)] = building_item.pop('$OSM_ID')\n",
    "    building_items.update(building_item)\n",
    "    with open(filename_json,'r+') as file:\n",
    "        json_data = json.load(file)\n",
    "    building_template = json_data[\"osmBuildingIds\"]\n",
    "    building_item = building_template"
   ]
  },
  {
   "cell_type": "code",
   "execution_count": 58,
   "id": "49db79f2",
   "metadata": {},
   "outputs": [
    {
     "name": "stdout",
     "output_type": "stream",
     "text": [
      "{\n",
      "    \"1\": {\n",
      "        \"damage\": [\n",
      "            {\n",
      "                \"damageScale\": \"Binary\",\n",
      "                \"values\": [\n",
      "                    \"$VALUE_0_BINARY\",\n",
      "                    \"$VALUE_1_BINARY\"\n",
      "                ],\n",
      "                \"assessmentSourceMethod\": \"automatic\",\n",
      "                \"status\": \"finished\",\n",
      "                \"comment\": \"optional comment\"\n",
      "            },\n",
      "            {\n",
      "                \"damageScale\": \"Multi\",\n",
      "                \"values\": [\n",
      "                    0.1,\n",
      "                    0.3,\n",
      "                    0.5,\n",
      "                    0.1,\n",
      "                    0,\n",
      "                    0\n",
      "                ],\n",
      "                \"assessmentSourceMethod\": \"micro_mapping\",\n",
      "                \"status\": \"pending\",\n",
      "                \"comment\": \"optional comment\"\n",
      "            }\n",
      "        ]\n",
      "    },\n",
      "    \"2\": {\n",
      "        \"damage\": [\n",
      "            {\n",
      "                \"damageScale\": \"Binary\",\n",
      "                \"values\": [\n",
      "                    \"$VALUE_0_BINARY\",\n",
      "                    \"$VALUE_1_BINARY\"\n",
      "                ],\n",
      "                \"assessmentSourceMethod\": \"automatic\",\n",
      "                \"status\": \"finished\",\n",
      "                \"comment\": \"optional comment\"\n",
      "            },\n",
      "            {\n",
      "                \"damageScale\": \"Multi\",\n",
      "                \"values\": [\n",
      "                    0.1,\n",
      "                    0.3,\n",
      "                    0.5,\n",
      "                    0.1,\n",
      "                    0,\n",
      "                    0\n",
      "                ],\n",
      "                \"assessmentSourceMethod\": \"micro_mapping\",\n",
      "                \"status\": \"pending\",\n",
      "                \"comment\": \"optional comment\"\n",
      "            }\n",
      "        ]\n",
      "    },\n",
      "    \"3\": {\n",
      "        \"damage\": [\n",
      "            {\n",
      "                \"damageScale\": \"Binary\",\n",
      "                \"values\": [\n",
      "                    \"$VALUE_0_BINARY\",\n",
      "                    \"$VALUE_1_BINARY\"\n",
      "                ],\n",
      "                \"assessmentSourceMethod\": \"automatic\",\n",
      "                \"status\": \"finished\",\n",
      "                \"comment\": \"optional comment\"\n",
      "            },\n",
      "            {\n",
      "                \"damageScale\": \"Multi\",\n",
      "                \"values\": [\n",
      "                    0.1,\n",
      "                    0.3,\n",
      "                    0.5,\n",
      "                    0.1,\n",
      "                    0,\n",
      "                    0\n",
      "                ],\n",
      "                \"assessmentSourceMethod\": \"micro_mapping\",\n",
      "                \"status\": \"pending\",\n",
      "                \"comment\": \"optional comment\"\n",
      "            }\n",
      "        ]\n",
      "    }\n",
      "}\n"
     ]
    }
   ],
   "source": [
    "print(json.dumps(building_items, indent=4))"
   ]
  },
  {
   "cell_type": "code",
   "execution_count": 22,
   "id": "52e6ff8c",
   "metadata": {},
   "outputs": [
    {
     "name": "stdout",
     "output_type": "stream",
     "text": [
      "{\n",
      "    \"1\": {\n",
      "        \"damage\": [\n",
      "            {\n",
      "                \"damageScale\": \"Binary\",\n",
      "                \"values\": [\n",
      "                    \"$VALUE_0_BINARY\",\n",
      "                    \"$VALUE_1_BINARY\"\n",
      "                ],\n",
      "                \"assessmentSourceMethod\": \"automatic\",\n",
      "                \"status\": \"finished\",\n",
      "                \"comment\": \"optional comment\"\n",
      "            },\n",
      "            {\n",
      "                \"damageScale\": \"Multi\",\n",
      "                \"values\": [\n",
      "                    0.1,\n",
      "                    0.3,\n",
      "                    0.5,\n",
      "                    0.1,\n",
      "                    0,\n",
      "                    0\n",
      "                ],\n",
      "                \"assessmentSourceMethod\": \"micro_mapping\",\n",
      "                \"status\": \"pending\",\n",
      "                \"comment\": \"optional comment\"\n",
      "            }\n",
      "        ]\n",
      "    }\n",
      "}\n"
     ]
    }
   ],
   "source": [
    "# TODO: set other values\n",
    "\n",
    "# collect all building items\n",
    "building_items.update(building_item)\n",
    "print(json.dumps(building_items, indent=4))"
   ]
  },
  {
   "cell_type": "code",
   "execution_count": 160,
   "id": "f18eec1d",
   "metadata": {},
   "outputs": [
    {
     "name": "stdout",
     "output_type": "stream",
     "text": [
      "{\n",
      "    \"damageClassificationTimestamp\": \"87890954331\",\n",
      "    \"damageScales\": {\n",
      "        \"Binary\": {\n",
      "            \"states\": [\n",
      "                \"no damage\",\n",
      "                \"damage\"\n",
      "            ]\n",
      "        },\n",
      "        \"Multi\": {\n",
      "            \"states\": [\n",
      "                \"no damage\",\n",
      "                \"slight damage\",\n",
      "                \"medium damage\",\n",
      "                \"high damage\",\n",
      "                \"extreme damage\",\n",
      "                \"collapse\"\n",
      "            ]\n",
      "        }\n",
      "    },\n",
      "    \"assessmentSourceMethods\": [\n",
      "        \"micro_mapping\",\n",
      "        \"automatic\"\n",
      "    ],\n",
      "    \"osmBuildingIds\": {\n",
      "        \"1\": {\n",
      "            \"damage\": [\n",
      "                {\n",
      "                    \"damageScale\": \"Binary\",\n",
      "                    \"values\": [\n",
      "                        1,\n",
      "                        2\n",
      "                    ],\n",
      "                    \"assessmentSourceMethod\": \"automatic\",\n",
      "                    \"status\": \"finished\",\n",
      "                    \"comment\": \"optional comment\"\n",
      "                },\n",
      "                {\n",
      "                    \"damageScale\": \"Multi\",\n",
      "                    \"values\": [\n",
      "                        0.1,\n",
      "                        0,\n",
      "                        0,\n",
      "                        0,\n",
      "                        0,\n",
      "                        0,\n",
      "                        0\n",
      "                    ],\n",
      "                    \"assessmentSourceMethod\": \"micro_mapping\",\n",
      "                    \"status\": \"pending\",\n",
      "                    \"comment\": \"optional comment\"\n",
      "                }\n",
      "            ]\n",
      "        },\n",
      "        \"2\": {\n",
      "            \"damage\": [\n",
      "                {\n",
      "                    \"damageScale\": \"Binary\",\n",
      "                    \"values\": [\n",
      "                        1,\n",
      "                        2\n",
      "                    ],\n",
      "                    \"assessmentSourceMethod\": \"automatic\",\n",
      "                    \"status\": \"finished\",\n",
      "                    \"comment\": \"optional comment\"\n",
      "                },\n",
      "                {\n",
      "                    \"damageScale\": \"Multi\",\n",
      "                    \"values\": [\n",
      "                        0,\n",
      "                        0.2,\n",
      "                        0,\n",
      "                        0,\n",
      "                        0,\n",
      "                        0,\n",
      "                        0\n",
      "                    ],\n",
      "                    \"assessmentSourceMethod\": \"micro_mapping\",\n",
      "                    \"status\": \"pending\",\n",
      "                    \"comment\": \"optional comment\"\n",
      "                }\n",
      "            ]\n",
      "        },\n",
      "        \"3\": {\n",
      "            \"damage\": [\n",
      "                {\n",
      "                    \"damageScale\": \"Binary\",\n",
      "                    \"values\": [\n",
      "                        \"$VALUE_0_BINARY\",\n",
      "                        \"$VALUE_1_BINARY\"\n",
      "                    ],\n",
      "                    \"assessmentSourceMethod\": \"automatic\",\n",
      "                    \"status\": \"finished\",\n",
      "                    \"comment\": \"optional comment\"\n",
      "                },\n",
      "                {\n",
      "                    \"damageScale\": \"Multi\",\n",
      "                    \"values\": [\n",
      "                        0,\n",
      "                        0,\n",
      "                        0.7,\n",
      "                        0,\n",
      "                        0,\n",
      "                        0,\n",
      "                        0\n",
      "                    ],\n",
      "                    \"assessmentSourceMethod\": \"micro_mapping\",\n",
      "                    \"status\": \"pending\",\n",
      "                    \"comment\": \"optional comment\"\n",
      "                }\n",
      "            ]\n",
      "        }\n",
      "    }\n",
      "}\n"
     ]
    }
   ],
   "source": [
    "######################################\n",
    "\n",
    "# add all building items to json\n",
    "json_template[\"osmBuildingIds\"] = building_items\n",
    "print(json.dumps(json_template, indent=4))"
   ]
  },
  {
   "cell_type": "code",
   "execution_count": 89,
   "id": "b9e7c7d7",
   "metadata": {},
   "outputs": [],
   "source": [
    "\n",
    "df = df.groupby('osm_id')[['value','count','pct']].apply(lambda x: x.set_index('value').to_dict(orient='index')).to_dict()\n"
   ]
  },
  {
   "cell_type": "code",
   "execution_count": 90,
   "id": "7308d219",
   "metadata": {},
   "outputs": [
    {
     "data": {
      "text/plain": [
       "{1: {0: {'count': 1, 'pct': 0.1}},\n",
       " 2: {1: {'count': 2, 'pct': 0.2}},\n",
       " 3: {2: {'count': 7, 'pct': 0.7}}}"
      ]
     },
     "execution_count": 90,
     "metadata": {},
     "output_type": "execute_result"
    }
   ],
   "source": [
    "df"
   ]
  },
  {
   "cell_type": "code",
   "execution_count": 108,
   "id": "c7ce3b99",
   "metadata": {},
   "outputs": [
    {
     "name": "stdout",
     "output_type": "stream",
     "text": [
      "[0, 0, 0, 0, 0, 0]\n",
      "[0, 0, 0, 0, 0, 0]\n",
      "[0, 0, 0, 0, 0, 0]\n"
     ]
    }
   ],
   "source": [
    "for i in osm_ids:\n",
    "    building_items[str(i)][\"damage\"][1][\"values\"]=[0,0,0,0,0,0] \n",
    "    print(building_items[str(i)][\"damage\"][1][\"values\"])\n",
    "    "
   ]
  },
  {
   "cell_type": "code",
   "execution_count": 138,
   "id": "e4a8cb9d",
   "metadata": {},
   "outputs": [
    {
     "ename": "KeyError",
     "evalue": "'1'",
     "output_type": "error",
     "traceback": [
      "\u001b[0;31m---------------------------------------------------------------------------\u001b[0m",
      "\u001b[0;31mKeyError\u001b[0m                                  Traceback (most recent call last)",
      "\u001b[0;32m/var/folders/8z/krlt9xcn6kxcp2k7w1_7ts3h0000gn/T/ipykernel_53461/1779466728.py\u001b[0m in \u001b[0;36m<module>\u001b[0;34m\u001b[0m\n\u001b[1;32m      1\u001b[0m \u001b[0;32mfor\u001b[0m \u001b[0mi\u001b[0m \u001b[0;32min\u001b[0m \u001b[0mosm_ids\u001b[0m\u001b[0;34m:\u001b[0m\u001b[0;34m\u001b[0m\u001b[0;34m\u001b[0m\u001b[0m\n\u001b[0;32m----> 2\u001b[0;31m     \u001b[0mprint\u001b[0m\u001b[0;34m(\u001b[0m\u001b[0mjson_template\u001b[0m\u001b[0;34m[\u001b[0m\u001b[0mstr\u001b[0m\u001b[0;34m(\u001b[0m\u001b[0mi\u001b[0m\u001b[0;34m)\u001b[0m\u001b[0;34m]\u001b[0m\u001b[0;34m)\u001b[0m\u001b[0;34m\u001b[0m\u001b[0;34m\u001b[0m\u001b[0m\n\u001b[0m",
      "\u001b[0;31mKeyError\u001b[0m: '1'"
     ]
    }
   ],
   "source": [
    "for i in osm_ids:\n",
    "    print(json_template[str(i)])"
   ]
  },
  {
   "cell_type": "code",
   "execution_count": 161,
   "id": "c6db537f",
   "metadata": {},
   "outputs": [
    {
     "name": "stdout",
     "output_type": "stream",
     "text": [
      "[0.1, 0, 0, 0, 0, 0]\n",
      "[0, 0.2, 0, 0, 0, 0]\n",
      "[0, 0, 0.7, 0, 0, 0]\n"
     ]
    }
   ],
   "source": [
    "for x in osm_ids:\n",
    "    for i in range(len(df)):\n",
    "        if df.loc[i, \"osm_id\"] == x:\n",
    "            value = df.loc[i, \"value\"]\n",
    "            pct = df.loc[i, \"pct\"]\n",
    "            l = [0,0,0,0,0,0]\n",
    "            l[value] = pct\n",
    "            print(l)"
   ]
  },
  {
   "cell_type": "code",
   "execution_count": 162,
   "id": "1e9b54c0",
   "metadata": {},
   "outputs": [
    {
     "name": "stdout",
     "output_type": "stream",
     "text": [
      "[0.1, 0, 0, 0, 0, 0]\n",
      "[0, 0.2, 0, 0, 0, 0]\n",
      "[0, 0, 0.7, 0, 0, 0]\n"
     ]
    }
   ],
   "source": [
    "\n",
    "\n",
    "for x in osm_ids:\n",
    "    for i in range(len(df)):\n",
    "        if df.loc[i, \"osm_id\"] == x:\n",
    "            value = df.loc[i, \"value\"]\n",
    "            pct = df.loc[i, \"pct\"]\n",
    "            l = [0,0,0,0,0,0]\n",
    "            l[value] = pct\n",
    "            print(l)\n",
    "            building_items[str(x)][\"damage\"][1][\"values\"]= l"
   ]
  },
  {
   "cell_type": "code",
   "execution_count": 163,
   "id": "b2459018",
   "metadata": {},
   "outputs": [
    {
     "name": "stdout",
     "output_type": "stream",
     "text": [
      "{\n",
      "    \"1\": {\n",
      "        \"damage\": [\n",
      "            {\n",
      "                \"damageScale\": \"Binary\",\n",
      "                \"values\": [\n",
      "                    1,\n",
      "                    2\n",
      "                ],\n",
      "                \"assessmentSourceMethod\": \"automatic\",\n",
      "                \"status\": \"finished\",\n",
      "                \"comment\": \"optional comment\"\n",
      "            },\n",
      "            {\n",
      "                \"damageScale\": \"Multi\",\n",
      "                \"values\": [\n",
      "                    0.1,\n",
      "                    0,\n",
      "                    0,\n",
      "                    0,\n",
      "                    0,\n",
      "                    0\n",
      "                ],\n",
      "                \"assessmentSourceMethod\": \"micro_mapping\",\n",
      "                \"status\": \"pending\",\n",
      "                \"comment\": \"optional comment\"\n",
      "            }\n",
      "        ]\n",
      "    },\n",
      "    \"2\": {\n",
      "        \"damage\": [\n",
      "            {\n",
      "                \"damageScale\": \"Binary\",\n",
      "                \"values\": [\n",
      "                    1,\n",
      "                    2\n",
      "                ],\n",
      "                \"assessmentSourceMethod\": \"automatic\",\n",
      "                \"status\": \"finished\",\n",
      "                \"comment\": \"optional comment\"\n",
      "            },\n",
      "            {\n",
      "                \"damageScale\": \"Multi\",\n",
      "                \"values\": [\n",
      "                    0,\n",
      "                    0.2,\n",
      "                    0,\n",
      "                    0,\n",
      "                    0,\n",
      "                    0\n",
      "                ],\n",
      "                \"assessmentSourceMethod\": \"micro_mapping\",\n",
      "                \"status\": \"pending\",\n",
      "                \"comment\": \"optional comment\"\n",
      "            }\n",
      "        ]\n",
      "    },\n",
      "    \"3\": {\n",
      "        \"damage\": [\n",
      "            {\n",
      "                \"damageScale\": \"Binary\",\n",
      "                \"values\": [\n",
      "                    \"$VALUE_0_BINARY\",\n",
      "                    \"$VALUE_1_BINARY\"\n",
      "                ],\n",
      "                \"assessmentSourceMethod\": \"automatic\",\n",
      "                \"status\": \"finished\",\n",
      "                \"comment\": \"optional comment\"\n",
      "            },\n",
      "            {\n",
      "                \"damageScale\": \"Multi\",\n",
      "                \"values\": [\n",
      "                    0,\n",
      "                    0,\n",
      "                    0.7,\n",
      "                    0,\n",
      "                    0,\n",
      "                    0\n",
      "                ],\n",
      "                \"assessmentSourceMethod\": \"micro_mapping\",\n",
      "                \"status\": \"pending\",\n",
      "                \"comment\": \"optional comment\"\n",
      "            }\n",
      "        ]\n",
      "    }\n",
      "}\n"
     ]
    }
   ],
   "source": [
    "print(json.dumps(building_items, indent=4))"
   ]
  },
  {
   "cell_type": "code",
   "execution_count": 91,
   "id": "1874b813",
   "metadata": {},
   "outputs": [
    {
     "ename": "KeyError",
     "evalue": "'1'",
     "output_type": "error",
     "traceback": [
      "\u001b[0;31m---------------------------------------------------------------------------\u001b[0m",
      "\u001b[0;31mKeyError\u001b[0m                                  Traceback (most recent call last)",
      "\u001b[0;32m/var/folders/8z/krlt9xcn6kxcp2k7w1_7ts3h0000gn/T/ipykernel_53461/2959797562.py\u001b[0m in \u001b[0;36m<module>\u001b[0;34m\u001b[0m\n\u001b[0;32m----> 1\u001b[0;31m \u001b[0mbuilding_item\u001b[0m\u001b[0;34m[\u001b[0m\u001b[0;34m\"1\"\u001b[0m\u001b[0;34m]\u001b[0m\u001b[0;34m[\u001b[0m\u001b[0;34m\"damage\"\u001b[0m\u001b[0;34m]\u001b[0m\u001b[0;34m[\u001b[0m\u001b[0;36m1\u001b[0m\u001b[0;34m]\u001b[0m\u001b[0;34m[\u001b[0m\u001b[0;34m\"values\"\u001b[0m\u001b[0;34m]\u001b[0m\u001b[0;34m=\u001b[0m\u001b[0;34m[\u001b[0m\u001b[0;36m0\u001b[0m\u001b[0;34m,\u001b[0m\u001b[0;36m0\u001b[0m\u001b[0;34m,\u001b[0m\u001b[0;36m0\u001b[0m\u001b[0;34m,\u001b[0m\u001b[0;36m0\u001b[0m\u001b[0;34m,\u001b[0m\u001b[0;36m0\u001b[0m\u001b[0;34m,\u001b[0m\u001b[0;36m0\u001b[0m\u001b[0;34m]\u001b[0m\u001b[0;34m\u001b[0m\u001b[0;34m\u001b[0m\u001b[0m\n\u001b[0m\u001b[1;32m      2\u001b[0m \u001b[0mprint\u001b[0m\u001b[0;34m(\u001b[0m\u001b[0mjson\u001b[0m\u001b[0;34m.\u001b[0m\u001b[0mdumps\u001b[0m\u001b[0;34m(\u001b[0m\u001b[0mbuilding_item\u001b[0m\u001b[0;34m,\u001b[0m \u001b[0mindent\u001b[0m\u001b[0;34m=\u001b[0m\u001b[0;36m4\u001b[0m\u001b[0;34m)\u001b[0m\u001b[0;34m)\u001b[0m\u001b[0;34m\u001b[0m\u001b[0;34m\u001b[0m\u001b[0m\n",
      "\u001b[0;31mKeyError\u001b[0m: '1'"
     ]
    }
   ],
   "source": [
    "building_item[\"1\"][\"damage\"][1][\"values\"]=[0,0,0,0,0,0] \n",
    "print(json.dumps(building_item, indent=4))"
   ]
  },
  {
   "cell_type": "code",
   "execution_count": null,
   "id": "32158750",
   "metadata": {},
   "outputs": [],
   "source": [
    "# write json\n",
    "with open('out.json', 'w') as f:\n",
    "    json.dump(json_template, f, ensure_ascii=False, indent=4)\n",
    "\n",
    "\n"
   ]
  },
  {
   "cell_type": "code",
   "execution_count": null,
   "id": "ce3504bf",
   "metadata": {},
   "outputs": [],
   "source": []
  }
 ],
 "metadata": {
  "kernelspec": {
   "display_name": "Python 3 (ipykernel)",
   "language": "python",
   "name": "python3"
  },
  "language_info": {
   "codemirror_mode": {
    "name": "ipython",
    "version": 3
   },
   "file_extension": ".py",
   "mimetype": "text/x-python",
   "name": "python",
   "nbconvert_exporter": "python",
   "pygments_lexer": "ipython3",
   "version": "3.8.8"
  }
 },
 "nbformat": 4,
 "nbformat_minor": 5
}
